{
 "cells": [
  {
   "cell_type": "markdown",
   "metadata": {},
   "source": [
    "## Setup"
   ]
  },
  {
   "cell_type": "code",
   "execution_count": 1,
   "metadata": {
    "execution": {
     "iopub.execute_input": "2023-03-31T08:30:59.996544Z",
     "iopub.status.busy": "2023-03-31T08:30:59.996077Z",
     "iopub.status.idle": "2023-03-31T08:31:12.517268Z",
     "shell.execute_reply": "2023-03-31T08:31:12.514801Z",
     "shell.execute_reply.started": "2023-03-31T08:30:59.996501Z"
    },
    "trusted": true
   },
   "outputs": [],
   "source": [
    "import tensorflow as tf\n",
    "from tensorflow import keras\n",
    "\n",
    "import matplotlib.pyplot as plt\n",
    "import numpy as np\n",
    "\n",
    "import os"
   ]
  },
  {
   "cell_type": "code",
   "execution_count": 2,
   "metadata": {
    "execution": {
     "iopub.execute_input": "2023-03-31T08:31:12.521946Z",
     "iopub.status.busy": "2023-03-31T08:31:12.520577Z",
     "iopub.status.idle": "2023-03-31T08:31:12.530545Z",
     "shell.execute_reply": "2023-03-31T08:31:12.528974Z",
     "shell.execute_reply.started": "2023-03-31T08:31:12.521867Z"
    },
    "trusted": true
   },
   "outputs": [],
   "source": [
    "image_size = 224\n",
    "target_size = (image_size, image_size)\n",
    "input_shape = (image_size, image_size, 3)\n",
    "\n",
    "batch_size = 32\n",
    "epochs = 25"
   ]
  },
  {
   "cell_type": "markdown",
   "metadata": {},
   "source": [
    "## Get data\n",
    "\n",
    "In order to make the most of our few training examples, we will \"augment\" them via a number of random transformations, so that our model would never see twice the exact same picture. This helps prevent overfitting and helps the model generalize better.\n",
    "\n",
    "In TensorFlow this can be done via the `tf.keras.preprocessing.image.ImageDataGenerator` class. This class allows you to:\n",
    "\n",
    "- configure random transformations and normalization operations to be done on your image data during training\n",
    "- instantiate generators of augmented image batches (and their labels) via `.flow(data, labels)` or `.flow_from_directory(directory)`. These generators can then be used with the `tf.keras` model methods that accept data generators as inputs, `fit`, `evaluate` and `predict`."
   ]
  },
  {
   "cell_type": "code",
   "execution_count": 3,
   "metadata": {
    "execution": {
     "iopub.execute_input": "2023-03-31T08:31:12.532836Z",
     "iopub.status.busy": "2023-03-31T08:31:12.532353Z",
     "iopub.status.idle": "2023-03-31T08:31:12.550743Z",
     "shell.execute_reply": "2023-03-31T08:31:12.549178Z",
     "shell.execute_reply.started": "2023-03-31T08:31:12.532791Z"
    },
    "trusted": true
   },
   "outputs": [],
   "source": [
    "base_dir = r\"crop_dataset\\\\Dataset\"\n",
    "train_dir = os.path.join(base_dir,\"train\")\n",
    "test_dir = os.path.join(base_dir,\"valid\")"
   ]
  },
  {
   "cell_type": "markdown",
   "metadata": {},
   "source": [
    "# Identify Plant Diseases\n",
    "\n",
    "We use the PlantVillage dataset [1] by Hughes et al. consists of about 87,000 healthy and unhealthy leaf images divided into 38 categories by species and disease. Here we provide a subset of our experiments on working with this data. We also end up transfer learning from MobileNet and use the weights from pre-training on ImageNet.\n",
    "\n",
    "* ![PlantVillage Dataset Samples](https://i.imgur.com/Zcxdrlc.png)\n",
    "Figure 1. PlantVillage Dataset Samples\n",
    "\n",
    "## Classes\n",
    "\n",
    "The following 38 classes are availaible in the dataset\n",
    "\n",
    "- `Apple___Apple_scab` \n",
    "- `Apple___Black_rot` \n",
    "- `Apple___Cedar_apple_rust` \n",
    "- `Apple___healthy` \n",
    "- `Blueberry___healthy` \n",
    "- `Cherry_(including_sour)___Powdery_mildew` \n",
    "- `Cherry_(including_sour)___healthy` \n",
    "- `Corn_(maize)___Cercospora_leaf_spot Gray_leaf_spot` \n",
    "- `Corn_(maize)___Common_rust_` \n",
    "- `Corn_(maize)___Northern_Leaf_Blight` \n",
    "- `Corn_(maize)___healthy', 'Grape___Black_rot` \n",
    "- `Grape___Leaf_blight_(Isariopsis_Leaf_Spot)` \n",
    "- `Grape___healthy` \n",
    "- `Orange___Haunglongbing_(Citrus_greening)` \n",
    "- `Peach___Bacterial_spot` \n",
    "- `Peach___healthy` \n",
    "- `Pepper,_bell___Bacterial_spot` \n",
    "- `Pepper,_bell___healthy` \n",
    "- `Potato___Early_blight` \n",
    "- `Potato___Late_blight` \n",
    "- `Potato___healthy` \n",
    "- `Raspberry___healthy` \n",
    "- `Soybean___healthy` \n",
    "- `Squash___Powdery_mildew` \n",
    "- `Strawberry___Leaf_scorch` \n",
    "- `Strawberry___healthy` \n",
    "- `Tomato___Bacterial_spot` \n",
    "- `Tomato___Late_blight` \n",
    "- `Tomato___Leaf_Mold` \n",
    "- `Tomato___Septoria_leaf_spot` \n",
    "- `Tomato___Spider_mites Two-spotted_spider_mite` \n",
    "- `Tomato___Target_Spot` \n",
    "- `Tomato___Tomato_Yellow_Leaf_Curl_Virus` \n",
    "- `Tomato___Tomato_mosaic_virus` \n",
    "- `Tomato___healthy`\n",
    "\n",
    "## References\n",
    "\n",
    "[1] Hughes, David P., and Marcel Salathe. “An Open Access Repository of Images on Plant Health to Enable the Development of Mobile Disease Diagnostics.” ArXiv:1511.08060 [Cs], Apr. 2016. arXiv.org, http://arxiv.org/abs/1511.08060.\n",
    "\n",
    "[2] Howard, Andrew G., et al. “MobileNets: Efficient Convolutional Neural Networks for Mobile Vision Applications.” ArXiv:1704.04861 [Cs], Apr. 2017. arXiv.org, http://arxiv.org/abs/1704.04861.\n"
   ]
  },
  {
   "cell_type": "markdown",
   "metadata": {},
   "source": [
    "We make the following augmentations to the images:\n",
    "\n",
    "- `width_shift` and `height_shift` are ranges (as a fraction of total width or height) within which to randomly translate pictures vertically or horizontally\n",
    "- `rescale` is a value by which we will multiply the data before any other processing. Our original images consist in RGB coefficients in the 0-255, but such values would be too high for our models to process (given a typical learning rate), so we target values between 0 and 1 instead by scaling with a 1/255. factor.\n",
    "- `shear_range` is for randomly applying shearing transformations\n",
    "- `zoom_range` is for randomly zooming inside pictures\n",
    "- `fill_mode` is the strategy used for filling in newly created pixels, which can appear after a rotation or a width/height shift."
   ]
  },
  {
   "cell_type": "code",
   "execution_count": 4,
   "metadata": {
    "execution": {
     "iopub.execute_input": "2023-03-31T08:31:12.554939Z",
     "iopub.status.busy": "2023-03-31T08:31:12.554274Z",
     "iopub.status.idle": "2023-03-31T08:31:12.565783Z",
     "shell.execute_reply": "2023-03-31T08:31:12.563948Z",
     "shell.execute_reply.started": "2023-03-31T08:31:12.554884Z"
    },
    "trusted": true
   },
   "outputs": [],
   "source": [
    "train_datagen = keras.preprocessing.image.ImageDataGenerator(rescale = 1/255.0,\n",
    "                                                             shear_range = 0.2,\n",
    "                                                             zoom_range = 0.2,\n",
    "                                                             width_shift_range = 0.2,\n",
    "                                                             height_shift_range = 0.2,\n",
    "                                                             fill_mode=\"nearest\")\n",
    "\n",
    "test_datagen = keras.preprocessing.image.ImageDataGenerator(rescale = 1/255.0)"
   ]
  },
  {
   "cell_type": "markdown",
   "metadata": {},
   "source": [
    "Let's prepare our data. We will use `.flow_from_directory()` to generate batches of image data (and their labels) directly from our images in their respective folders."
   ]
  },
  {
   "cell_type": "code",
   "execution_count": 5,
   "metadata": {
    "execution": {
     "iopub.execute_input": "2023-03-31T08:31:12.56797Z",
     "iopub.status.busy": "2023-03-31T08:31:12.567555Z",
     "iopub.status.idle": "2023-03-31T08:32:15.464831Z",
     "shell.execute_reply": "2023-03-31T08:32:15.463371Z",
     "shell.execute_reply.started": "2023-03-31T08:31:12.56793Z"
    },
    "trusted": true
   },
   "outputs": [
    {
     "name": "stdout",
     "output_type": "stream",
     "text": [
      "Found 70295 images belonging to 38 classes.\n",
      "Found 17572 images belonging to 38 classes.\n"
     ]
    }
   ],
   "source": [
    "train_data = train_datagen.flow_from_directory(train_dir,\n",
    "                                               target_size = (image_size, image_size),\n",
    "                                               batch_size = batch_size,\n",
    "                                               class_mode = \"categorical\")\n",
    "\n",
    "test_data = test_datagen.flow_from_directory(test_dir,\n",
    "                                             target_size = (image_size, image_size),\n",
    "                                             batch_size = batch_size,\n",
    "                                             class_mode = \"categorical\")"
   ]
  },
  {
   "cell_type": "markdown",
   "metadata": {},
   "source": [
    "## Create a classes index file\n",
    "\n",
    "We also want to know which class corresponds to which species and disease so we also create a `json` file which shows corresponding labels and class indices."
   ]
  },
  {
   "cell_type": "code",
   "execution_count": 6,
   "metadata": {
    "execution": {
     "iopub.execute_input": "2023-03-31T08:32:15.466899Z",
     "iopub.status.busy": "2023-03-31T08:32:15.466492Z",
     "iopub.status.idle": "2023-03-31T08:32:15.473976Z",
     "shell.execute_reply": "2023-03-31T08:32:15.472221Z",
     "shell.execute_reply.started": "2023-03-31T08:32:15.466857Z"
    },
    "trusted": true
   },
   "outputs": [
    {
     "name": "stdout",
     "output_type": "stream",
     "text": [
      "{'Apple___Apple_scab': 0, 'Apple___Black_rot': 1, 'Apple___Cedar_apple_rust': 2, 'Apple___healthy': 3, 'Blueberry___healthy': 4, 'Cherry_(including_sour)___Powdery_mildew': 5, 'Cherry_(including_sour)___healthy': 6, 'Corn_(maize)___Cercospora_leaf_spot Gray_leaf_spot': 7, 'Corn_(maize)___Common_rust_': 8, 'Corn_(maize)___Northern_Leaf_Blight': 9, 'Corn_(maize)___healthy': 10, 'Grape___Black_rot': 11, 'Grape___Esca_(Black_Measles)': 12, 'Grape___Leaf_blight_(Isariopsis_Leaf_Spot)': 13, 'Grape___healthy': 14, 'Orange___Haunglongbing_(Citrus_greening)': 15, 'Peach___Bacterial_spot': 16, 'Peach___healthy': 17, 'Pepper,_bell___Bacterial_spot': 18, 'Pepper,_bell___healthy': 19, 'Potato___Early_blight': 20, 'Potato___Late_blight': 21, 'Potato___healthy': 22, 'Raspberry___healthy': 23, 'Soybean___healthy': 24, 'Squash___Powdery_mildew': 25, 'Strawberry___Leaf_scorch': 26, 'Strawberry___healthy': 27, 'Tomato___Bacterial_spot': 28, 'Tomato___Early_blight': 29, 'Tomato___Late_blight': 30, 'Tomato___Leaf_Mold': 31, 'Tomato___Septoria_leaf_spot': 32, 'Tomato___Spider_mites Two-spotted_spider_mite': 33, 'Tomato___Target_Spot': 34, 'Tomato___Tomato_Yellow_Leaf_Curl_Virus': 35, 'Tomato___Tomato_mosaic_virus': 36, 'Tomato___healthy': 37}\n"
     ]
    }
   ],
   "source": [
    "categories = list(train_data.class_indices.keys())\n",
    "print(train_data.class_indices)"
   ]
  },
  {
   "cell_type": "code",
   "execution_count": 7,
   "metadata": {
    "execution": {
     "iopub.execute_input": "2023-03-31T08:32:15.476033Z",
     "iopub.status.busy": "2023-03-31T08:32:15.475619Z",
     "iopub.status.idle": "2023-03-31T08:32:15.491173Z",
     "shell.execute_reply": "2023-03-31T08:32:15.489956Z",
     "shell.execute_reply.started": "2023-03-31T08:32:15.475993Z"
    },
    "trusted": true
   },
   "outputs": [
    {
     "data": {
      "text/html": [
       "<a href='class_indices.json' target='_blank'>class_indices.json</a><br>"
      ],
      "text/plain": [
       "c:\\Users\\PC\\Desktop\\PROJECT FILES\\Heart Disease Detection\\class_indices.json"
      ]
     },
     "execution_count": 7,
     "metadata": {},
     "output_type": "execute_result"
    }
   ],
   "source": [
    "import json\n",
    "with open('class_indices.json','w') as f:\n",
    "  json.dump(train_data.class_indices, f)\n",
    "\n",
    "from IPython.display import FileLink\n",
    "FileLink(r'class_indices.json')"
   ]
  },
  {
   "cell_type": "markdown",
   "metadata": {},
   "source": [
    "## Training\n",
    "\n",
    "We first get the base MobileNet model without including the top layers since we want to use it for 38 classes and us the pre-trained weights for ImageNet."
   ]
  },
  {
   "cell_type": "code",
   "execution_count": 8,
   "metadata": {
    "execution": {
     "iopub.execute_input": "2023-03-31T08:32:15.494089Z",
     "iopub.status.busy": "2023-03-31T08:32:15.492822Z",
     "iopub.status.idle": "2023-03-31T08:32:18.080349Z",
     "shell.execute_reply": "2023-03-31T08:32:18.078583Z",
     "shell.execute_reply.started": "2023-03-31T08:32:15.494049Z"
    },
    "trusted": true
   },
   "outputs": [],
   "source": [
    "base_model = tf.keras.applications.MobileNet(weights = \"imagenet\",\n",
    "                                             include_top = False,\n",
    "                                             input_shape = input_shape)\n",
    "\n",
    "base_model.trainable = False"
   ]
  },
  {
   "cell_type": "markdown",
   "metadata": {},
   "source": [
    "We now create a small upstream model on top of the MobileNet using the functional API"
   ]
  },
  {
   "cell_type": "code",
   "execution_count": 9,
   "metadata": {
    "execution": {
     "iopub.execute_input": "2023-03-31T08:32:18.083467Z",
     "iopub.status.busy": "2023-03-31T08:32:18.082844Z",
     "iopub.status.idle": "2023-03-31T08:32:18.430681Z",
     "shell.execute_reply": "2023-03-31T08:32:18.429519Z",
     "shell.execute_reply.started": "2023-03-31T08:32:18.0834Z"
    },
    "trusted": true
   },
   "outputs": [],
   "source": [
    "inputs = keras.Input(shape = input_shape)\n",
    "\n",
    "x = base_model(inputs, training = False)\n",
    "x = tf.keras.layers.GlobalAveragePooling2D()(x)\n",
    "x = tf.keras.layers.Dropout(0.2)(x)\n",
    "x = tf.keras.layers.Dense(len(categories), \n",
    "                          activation=\"softmax\")(x)\n",
    "\n",
    "model = keras.Model(inputs = inputs, \n",
    "                    outputs = x, \n",
    "                    name=\"LeafDisease_MobileNet\")"
   ]
  },
  {
   "cell_type": "markdown",
   "metadata": {},
   "source": [
    "In our multiple experiments we found out Adam optimizer to work really well with it's default learning rate, $\\beta_1$, $\\beta_2$ and $\\epsilon$ values"
   ]
  },
  {
   "cell_type": "code",
   "execution_count": 10,
   "metadata": {
    "execution": {
     "iopub.execute_input": "2023-03-31T08:32:18.438339Z",
     "iopub.status.busy": "2023-03-31T08:32:18.436873Z",
     "iopub.status.idle": "2023-03-31T08:32:18.471412Z",
     "shell.execute_reply": "2023-03-31T08:32:18.469986Z",
     "shell.execute_reply.started": "2023-03-31T08:32:18.438249Z"
    },
    "trusted": true
   },
   "outputs": [],
   "source": [
    "optimizer = tf.keras.optimizers.Adam()\n",
    "\n",
    "model.compile(optimizer = optimizer,\n",
    "              loss = tf.keras.losses.CategoricalCrossentropy(from_logits = True),\n",
    "              metrics=[keras.metrics.CategoricalAccuracy(), \n",
    "                       'accuracy'])"
   ]
  },
  {
   "cell_type": "code",
   "execution_count": null,
   "metadata": {
    "execution": {
     "iopub.execute_input": "2023-03-31T08:32:18.473416Z",
     "iopub.status.busy": "2023-03-31T08:32:18.472996Z"
    },
    "trusted": true
   },
   "outputs": [
    {
     "name": "stderr",
     "output_type": "stream",
     "text": [
      "c:\\Users\\PC\\AppData\\Local\\Programs\\Python\\Python312\\Lib\\site-packages\\keras\\src\\trainers\\data_adapters\\py_dataset_adapter.py:121: UserWarning: Your `PyDataset` class should call `super().__init__(**kwargs)` in its constructor. `**kwargs` can include `workers`, `use_multiprocessing`, `max_queue_size`. Do not pass these arguments to `fit()`, as they will be ignored.\n",
      "  self._warn_if_super_not_called()\n"
     ]
    },
    {
     "name": "stdout",
     "output_type": "stream",
     "text": [
      "Epoch 1/25\n"
     ]
    },
    {
     "name": "stderr",
     "output_type": "stream",
     "text": [
      "c:\\Users\\PC\\AppData\\Local\\Programs\\Python\\Python312\\Lib\\site-packages\\keras\\src\\backend\\tensorflow\\nn.py:666: UserWarning: \"`categorical_crossentropy` received `from_logits=True`, but the `output` argument was produced by a Softmax activation and thus does not represent logits. Was this intended?\n",
      "  output, from_logits = _get_logits(\n"
     ]
    },
    {
     "name": "stdout",
     "output_type": "stream",
     "text": [
      "\u001b[1m 17/150\u001b[0m \u001b[32m━━\u001b[0m\u001b[37m━━━━━━━━━━━━━━━━━━\u001b[0m \u001b[1m2:17\u001b[0m 1s/step - accuracy: 0.0365 - categorical_accuracy: 0.0365 - loss: 4.3373"
     ]
    }
   ],
   "source": [
    "history = model.fit(train_data,\n",
    "                    validation_data=test_data,\n",
    "                    epochs=epochs,\n",
    "                    steps_per_epoch=150,\n",
    "                    validation_steps=100)"
   ]
  },
  {
   "cell_type": "markdown",
   "metadata": {},
   "source": [
    "## Review the training process"
   ]
  },
  {
   "cell_type": "code",
   "execution_count": 102,
   "metadata": {},
   "outputs": [
    {
     "data": {
      "text/plain": [
       "<matplotlib.legend.Legend at 0x28e09abdf70>"
      ]
     },
     "execution_count": 102,
     "metadata": {},
     "output_type": "execute_result"
    },
    {
     "data": {
      "image/png": "[encoded data removed]",
      "text/plain": [
       "<Figure size 1000x600 with 1 Axes>"
      ]
     },
     "metadata": {},
     "output_type": "display_data"
    }
   ],
   "source": [
    "loss = history.history['loss']\n",
    "val_loss = history.history['val_loss']\n",
    "\n",
    "epochs = range(len(loss))\n",
    "\n",
    "fig = plt.figure(figsize=(10,6))\n",
    "plt.plot(epochs,loss,c=\"red\",label=\"Training\")\n",
    "plt.plot(epochs,val_loss,c=\"blue\",label=\"Validation\")\n",
    "plt.xlabel(\"Epochs\")\n",
    "plt.ylabel(\"Loss\")\n",
    "plt.legend()"
   ]
  },
  {
   "cell_type": "code",
   "execution_count": 103,
   "metadata": {},
   "outputs": [
    {
     "data": {
      "text/plain": [
       "<matplotlib.legend.Legend at 0x28e09e80da0>"
      ]
     },
     "execution_count": 103,
     "metadata": {},
     "output_type": "execute_result"
    },
    {
     "data": {
      "image/png": "[encoded data removed]",
      "text/plain": [
       "<Figure size 1000x600 with 1 Axes>"
      ]
     },
     "metadata": {},
     "output_type": "display_data"
    }
   ],
   "source": [
    "acc = history.history['categorical_accuracy']\n",
    "val_acc = history.history['val_categorical_accuracy']\n",
    "\n",
    "epochs = range(len(acc))\n",
    "\n",
    "fig = plt.figure(figsize=(10,6))\n",
    "plt.plot(epochs,acc,c=\"red\",label=\"Training\")\n",
    "plt.plot(epochs,val_acc,c=\"blue\",label=\"Validation\")\n",
    "plt.xlabel(\"Epochs\")\n",
    "plt.ylabel(\"Accuracy\")\n",
    "plt.legend()"
   ]
  },
  {
   "cell_type": "markdown",
   "metadata": {},
   "source": [
    "## Save the model\n",
    "We finally save the model in the standard TensorFlow 2 SavedModel format."
   ]
  },
  {
   "cell_type": "code",
   "execution_count": 104,
   "metadata": {},
   "outputs": [],
   "source": [
    "model.save('plant_disease.keras')"
   ]
  },
  {
   "cell_type": "markdown",
   "metadata": {},
   "source": [
    "## Converting to tflite Model"
   ]
  },
  {
   "cell_type": "code",
   "execution_count": 105,
   "metadata": {},
   "outputs": [
    {
     "name": "stdout",
     "output_type": "stream",
     "text": [
      "INFO:tensorflow:Assets written to: C:\\Users\\PC\\AppData\\Local\\Temp\\tmp4vfxxlon\\assets\n"
     ]
    },
    {
     "name": "stderr",
     "output_type": "stream",
     "text": [
      "INFO:tensorflow:Assets written to: C:\\Users\\PC\\AppData\\Local\\Temp\\tmp4vfxxlon\\assets\n"
     ]
    },
    {
     "name": "stdout",
     "output_type": "stream",
     "text": [
      "Saved artifact at 'C:\\Users\\PC\\AppData\\Local\\Temp\\tmp4vfxxlon'. The following endpoints are available:\n",
      "\n",
      "* Endpoint 'serve'\n",
      "  args_0 (POSITIONAL_ONLY): TensorSpec(shape=(None, 224, 224, 3), dtype=tf.float32, name='keras_tensor_547')\n",
      "Output Type:\n",
      "  TensorSpec(shape=(None, 38), dtype=tf.float32, name=None)\n",
      "Captures:\n",
      "  2809060813392: TensorSpec(shape=(), dtype=tf.resource, name=None)\n",
      "  2809060813776: TensorSpec(shape=(), dtype=tf.resource, name=None)\n",
      "  2809060814352: TensorSpec(shape=(), dtype=tf.resource, name=None)\n",
      "  2809060813968: TensorSpec(shape=(), dtype=tf.resource, name=None)\n",
      "  2809060812816: TensorSpec(shape=(), dtype=tf.resource, name=None)\n",
      "  2809060815696: TensorSpec(shape=(), dtype=tf.resource, name=None)\n",
      "  2809060816080: TensorSpec(shape=(), dtype=tf.resource, name=None)\n",
      "  2809060816464: TensorSpec(shape=(), dtype=tf.resource, name=None)\n",
      "  2809060816272: TensorSpec(shape=(), dtype=tf.resource, name=None)\n",
      "  2809060812432: TensorSpec(shape=(), dtype=tf.resource, name=None)\n",
      "  2809060817616: TensorSpec(shape=(), dtype=tf.resource, name=None)\n",
      "  2809060818000: TensorSpec(shape=(), dtype=tf.resource, name=None)\n",
      "  2809060818768: TensorSpec(shape=(), dtype=tf.resource, name=None)\n",
      "  2809060818192: TensorSpec(shape=(), dtype=tf.resource, name=None)\n",
      "  2809060814544: TensorSpec(shape=(), dtype=tf.resource, name=None)\n",
      "  2809060814160: TensorSpec(shape=(), dtype=tf.resource, name=None)\n",
      "  2809061229584: TensorSpec(shape=(), dtype=tf.resource, name=None)\n",
      "  2809061228624: TensorSpec(shape=(), dtype=tf.resource, name=None)\n",
      "  2809060815312: TensorSpec(shape=(), dtype=tf.resource, name=None)\n",
      "  2809061229968: TensorSpec(shape=(), dtype=tf.resource, name=None)\n",
      "  2809061231120: TensorSpec(shape=(), dtype=tf.resource, name=None)\n",
      "  2809061231504: TensorSpec(shape=(), dtype=tf.resource, name=None)\n",
      "  2809061231888: TensorSpec(shape=(), dtype=tf.resource, name=None)\n",
      "  2809061231696: TensorSpec(shape=(), dtype=tf.resource, name=None)\n",
      "  2809061229008: TensorSpec(shape=(), dtype=tf.resource, name=None)\n",
      "  2809061233040: TensorSpec(shape=(), dtype=tf.resource, name=None)\n",
      "  2809061233424: TensorSpec(shape=(), dtype=tf.resource, name=None)\n",
      "  2809061233808: TensorSpec(shape=(), dtype=tf.resource, name=None)\n",
      "  2809061233616: TensorSpec(shape=(), dtype=tf.resource, name=None)\n",
      "  2809061229200: TensorSpec(shape=(), dtype=tf.resource, name=None)\n",
      "  2809061234960: TensorSpec(shape=(), dtype=tf.resource, name=None)\n",
      "  2809061235344: TensorSpec(shape=(), dtype=tf.resource, name=None)\n",
      "  2809061235728: TensorSpec(shape=(), dtype=tf.resource, name=None)\n",
      "  2809061235536: TensorSpec(shape=(), dtype=tf.resource, name=None)\n",
      "  2809061230736: TensorSpec(shape=(), dtype=tf.resource, name=None)\n",
      "  2809061236880: TensorSpec(shape=(), dtype=tf.resource, name=None)\n",
      "  2809061237264: TensorSpec(shape=(), dtype=tf.resource, name=None)\n",
      "  2809061237648: TensorSpec(shape=(), dtype=tf.resource, name=None)\n",
      "  2809061237456: TensorSpec(shape=(), dtype=tf.resource, name=None)\n",
      "  2809061232656: TensorSpec(shape=(), dtype=tf.resource, name=None)\n",
      "  2809061238800: TensorSpec(shape=(), dtype=tf.resource, name=None)\n",
      "  2809061239184: TensorSpec(shape=(), dtype=tf.resource, name=None)\n",
      "  2809061239568: TensorSpec(shape=(), dtype=tf.resource, name=None)\n",
      "  2809061239376: TensorSpec(shape=(), dtype=tf.resource, name=None)\n",
      "  2809061234576: TensorSpec(shape=(), dtype=tf.resource, name=None)\n",
      "  2809061240720: TensorSpec(shape=(), dtype=tf.resource, name=None)\n",
      "  2809061241104: TensorSpec(shape=(), dtype=tf.resource, name=None)\n",
      "  2809061241488: TensorSpec(shape=(), dtype=tf.resource, name=None)\n",
      "  2809061241296: TensorSpec(shape=(), dtype=tf.resource, name=None)\n",
      "  2809061236496: TensorSpec(shape=(), dtype=tf.resource, name=None)\n",
      "  2809061242640: TensorSpec(shape=(), dtype=tf.resource, name=None)\n",
      "  2809061243024: TensorSpec(shape=(), dtype=tf.resource, name=None)\n",
      "  2809061243408: TensorSpec(shape=(), dtype=tf.resource, name=None)\n",
      "  2809061243216: TensorSpec(shape=(), dtype=tf.resource, name=None)\n",
      "  2809061238416: TensorSpec(shape=(), dtype=tf.resource, name=None)\n",
      "  2809061244560: TensorSpec(shape=(), dtype=tf.resource, name=None)\n",
      "  2809061229776: TensorSpec(shape=(), dtype=tf.resource, name=None)\n",
      "  2809061327312: TensorSpec(shape=(), dtype=tf.resource, name=None)\n",
      "  2809061244176: TensorSpec(shape=(), dtype=tf.resource, name=None)\n",
      "  2809061242256: TensorSpec(shape=(), dtype=tf.resource, name=None)\n",
      "  2809061328464: TensorSpec(shape=(), dtype=tf.resource, name=None)\n",
      "  2809061328848: TensorSpec(shape=(), dtype=tf.resource, name=None)\n",
      "  2809061329232: TensorSpec(shape=(), dtype=tf.resource, name=None)\n",
      "  2809061329040: TensorSpec(shape=(), dtype=tf.resource, name=None)\n",
      "  2809061327696: TensorSpec(shape=(), dtype=tf.resource, name=None)\n",
      "  2809061330384: TensorSpec(shape=(), dtype=tf.resource, name=None)\n",
      "  2809061330768: TensorSpec(shape=(), dtype=tf.resource, name=None)\n",
      "  2809061331152: TensorSpec(shape=(), dtype=tf.resource, name=None)\n",
      "  2809061330960: TensorSpec(shape=(), dtype=tf.resource, name=None)\n",
      "  2809061327888: TensorSpec(shape=(), dtype=tf.resource, name=None)\n",
      "  2809061332304: TensorSpec(shape=(), dtype=tf.resource, name=None)\n",
      "  2809061332688: TensorSpec(shape=(), dtype=tf.resource, name=None)\n",
      "  2809061333072: TensorSpec(shape=(), dtype=tf.resource, name=None)\n",
      "  2809061332880: TensorSpec(shape=(), dtype=tf.resource, name=None)\n",
      "  2809061327120: TensorSpec(shape=(), dtype=tf.resource, name=None)\n",
      "  2809061334224: TensorSpec(shape=(), dtype=tf.resource, name=None)\n",
      "  2809061334608: TensorSpec(shape=(), dtype=tf.resource, name=None)\n",
      "  2809061334992: TensorSpec(shape=(), dtype=tf.resource, name=None)\n",
      "  2809061334800: TensorSpec(shape=(), dtype=tf.resource, name=None)\n",
      "  2809061330000: TensorSpec(shape=(), dtype=tf.resource, name=None)\n",
      "  2809061336144: TensorSpec(shape=(), dtype=tf.resource, name=None)\n",
      "  2809061336528: TensorSpec(shape=(), dtype=tf.resource, name=None)\n",
      "  2809061336912: TensorSpec(shape=(), dtype=tf.resource, name=None)\n",
      "  2809061336720: TensorSpec(shape=(), dtype=tf.resource, name=None)\n",
      "  2809061331920: TensorSpec(shape=(), dtype=tf.resource, name=None)\n",
      "  2809061338064: TensorSpec(shape=(), dtype=tf.resource, name=None)\n",
      "  2809061338448: TensorSpec(shape=(), dtype=tf.resource, name=None)\n",
      "  2809061338832: TensorSpec(shape=(), dtype=tf.resource, name=None)\n",
      "  2809061338640: TensorSpec(shape=(), dtype=tf.resource, name=None)\n",
      "  2809061333840: TensorSpec(shape=(), dtype=tf.resource, name=None)\n",
      "  2809061339984: TensorSpec(shape=(), dtype=tf.resource, name=None)\n",
      "  2809061340368: TensorSpec(shape=(), dtype=tf.resource, name=None)\n",
      "  2809061340752: TensorSpec(shape=(), dtype=tf.resource, name=None)\n",
      "  2809061340560: TensorSpec(shape=(), dtype=tf.resource, name=None)\n",
      "  2809061335760: TensorSpec(shape=(), dtype=tf.resource, name=None)\n",
      "  2809061341904: TensorSpec(shape=(), dtype=tf.resource, name=None)\n",
      "  2809061342288: TensorSpec(shape=(), dtype=tf.resource, name=None)\n",
      "  2809061343056: TensorSpec(shape=(), dtype=tf.resource, name=None)\n",
      "  2809061342480: TensorSpec(shape=(), dtype=tf.resource, name=None)\n",
      "  2809061337680: TensorSpec(shape=(), dtype=tf.resource, name=None)\n",
      "  2809061328080: TensorSpec(shape=(), dtype=tf.resource, name=None)\n",
      "  2809061557264: TensorSpec(shape=(), dtype=tf.resource, name=None)\n",
      "  2809061556304: TensorSpec(shape=(), dtype=tf.resource, name=None)\n",
      "  2809061339600: TensorSpec(shape=(), dtype=tf.resource, name=None)\n",
      "  2809061557648: TensorSpec(shape=(), dtype=tf.resource, name=None)\n",
      "  2809061558800: TensorSpec(shape=(), dtype=tf.resource, name=None)\n",
      "  2809061559184: TensorSpec(shape=(), dtype=tf.resource, name=None)\n",
      "  2809061559568: TensorSpec(shape=(), dtype=tf.resource, name=None)\n",
      "  2809061559376: TensorSpec(shape=(), dtype=tf.resource, name=None)\n",
      "  2809061556688: TensorSpec(shape=(), dtype=tf.resource, name=None)\n",
      "  2809061560720: TensorSpec(shape=(), dtype=tf.resource, name=None)\n",
      "  2809061561104: TensorSpec(shape=(), dtype=tf.resource, name=None)\n",
      "  2809061561488: TensorSpec(shape=(), dtype=tf.resource, name=None)\n",
      "  2809061561296: TensorSpec(shape=(), dtype=tf.resource, name=None)\n",
      "  2809061556880: TensorSpec(shape=(), dtype=tf.resource, name=None)\n",
      "  2809061562640: TensorSpec(shape=(), dtype=tf.resource, name=None)\n",
      "  2809061563024: TensorSpec(shape=(), dtype=tf.resource, name=None)\n",
      "  2809061563408: TensorSpec(shape=(), dtype=tf.resource, name=None)\n",
      "  2809061563216: TensorSpec(shape=(), dtype=tf.resource, name=None)\n",
      "  2809061558416: TensorSpec(shape=(), dtype=tf.resource, name=None)\n",
      "  2809061564560: TensorSpec(shape=(), dtype=tf.resource, name=None)\n",
      "  2809061564944: TensorSpec(shape=(), dtype=tf.resource, name=None)\n",
      "  2809061565328: TensorSpec(shape=(), dtype=tf.resource, name=None)\n",
      "  2809061565136: TensorSpec(shape=(), dtype=tf.resource, name=None)\n",
      "  2809061560336: TensorSpec(shape=(), dtype=tf.resource, name=None)\n",
      "  2809061566480: TensorSpec(shape=(), dtype=tf.resource, name=None)\n",
      "  2809061566864: TensorSpec(shape=(), dtype=tf.resource, name=None)\n",
      "  2809061567248: TensorSpec(shape=(), dtype=tf.resource, name=None)\n",
      "  2809061567056: TensorSpec(shape=(), dtype=tf.resource, name=None)\n",
      "  2809061562256: TensorSpec(shape=(), dtype=tf.resource, name=None)\n",
      "  2809061568400: TensorSpec(shape=(), dtype=tf.resource, name=None)\n",
      "  2809061568784: TensorSpec(shape=(), dtype=tf.resource, name=None)\n",
      "  2809061569168: TensorSpec(shape=(), dtype=tf.resource, name=None)\n",
      "  2809061568976: TensorSpec(shape=(), dtype=tf.resource, name=None)\n",
      "  2809061564176: TensorSpec(shape=(), dtype=tf.resource, name=None)\n",
      "  2809061557456: TensorSpec(shape=(), dtype=tf.resource, name=None)\n",
      "  2809061571472: TensorSpec(shape=(), dtype=tf.resource, name=None)\n"
     ]
    }
   ],
   "source": [
    "import tensorflow as tf\n",
    "\n",
    "# Convert the model\n",
    "converter = tf.lite.TFLiteConverter.from_keras_model(model)\n",
    "tflite_model = converter.convert()\n",
    "\n",
    "# Save the TFLite model\n",
    "with open('model.tflite', 'wb') as f:\n",
    "    f.write(tflite_model)"
   ]
  }
 ],
 "metadata": {
  "kaggle": {
   "accelerator": "none",
   "dataSources": [
    {
     "datasetId": 78313,
     "sourceId": 182633,
     "sourceType": "datasetVersion"
    }
   ],
   "dockerImageVersionId": 30445,
   "isGpuEnabled": false,
   "isInternetEnabled": false,
   "language": "python",
   "sourceType": "notebook"
  },
  "kernelspec": {
   "display_name": "Python 3",
   "language": "python",
   "name": "python3"
  },
  "language_info": {
   "codemirror_mode": {
    "name": "ipython",
    "version": 3
   },
   "file_extension": ".py",
   "mimetype": "text/x-python",
   "name": "python",
   "nbconvert_exporter": "python",
   "pygments_lexer": "ipython3",
   "version": "3.12.7"
  }
 },
 "nbformat": 4,
 "nbformat_minor": 4
}
